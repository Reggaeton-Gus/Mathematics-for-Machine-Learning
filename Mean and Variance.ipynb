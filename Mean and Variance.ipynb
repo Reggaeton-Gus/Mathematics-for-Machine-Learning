{
 "cells": [
  {
   "cell_type": "markdown",
   "metadata": {},
   "source": [
    "# Mean/Covariance of a data set and effect of linear transformation"
   ]
  },
  {
   "cell_type": "code",
   "execution_count": 11,
   "metadata": {},
   "outputs": [],
   "source": [
    "import numpy as np\n",
    "import matplotlib\n",
    "matplotlib.use('Agg')\n",
    "import matplotlib.pyplot as plt\n",
    "matplotlib.style.use('fivethirtyeight')\n",
    "from sklearn.datasets import fetch_lfw_people, fetch_olivetti_faces\n",
    "import time\n",
    "import timeit"
   ]
  },
  {
   "cell_type": "code",
   "execution_count": 12,
   "metadata": {},
   "outputs": [],
   "source": [
    "%matplotlib inline\n",
    "from ipywidgets import interact"
   ]
  },
  {
   "cell_type": "code",
   "execution_count": 19,
   "metadata": {},
   "outputs": [],
   "source": [
    "import numpy.testing as npt"
   ]
  },
  {
   "cell_type": "markdown",
   "metadata": {},
   "source": [
    "## Data"
   ]
  },
  {
   "cell_type": "markdown",
   "metadata": {},
   "source": [
    "The data set is taken from the assignment example"
   ]
  },
  {
   "cell_type": "code",
   "execution_count": 22,
   "metadata": {},
   "outputs": [
    {
     "name": "stdout",
     "output_type": "stream",
     "text": [
      "X:\n",
      " [[0 1 2]\n",
      " [3 4 5]]\n",
      "Expected mean:\n",
      " [[1.]\n",
      " [4.]]\n",
      "Expected covariance:\n",
      " [[0.66666667 0.66666667]\n",
      " [0.66666667 0.66666667]]\n"
     ]
    }
   ],
   "source": [
    "X_test = np.arange(6).reshape(2,3)\n",
    "expected_test_mean = np.array([1., 4.]).reshape(-1, 1)\n",
    "expected_test_cov = np.array([[2/3., 2/3.], [2/3.,2/3.]])\n",
    "print('X:\\n', X_test)\n",
    "print('Expected mean:\\n', expected_test_mean)\n",
    "print('Expected covariance:\\n', expected_test_cov)"
   ]
  },
  {
   "cell_type": "markdown",
   "metadata": {},
   "source": [
    "The data set has 2 dimensions (D=2) and 3 observations (N=3)"
   ]
  },
  {
   "cell_type": "code",
   "execution_count": 23,
   "metadata": {},
   "outputs": [
    {
     "data": {
      "text/plain": [
       "(2, 3)"
      ]
     },
     "execution_count": 23,
     "metadata": {},
     "output_type": "execute_result"
    }
   ],
   "source": [
    "D, N = X_test.shape\n",
    "X\n",
    "D,N"
   ]
  },
  {
   "cell_type": "markdown",
   "metadata": {},
   "source": [
    "##  Mean and Variance Functions"
   ]
  },
  {
   "cell_type": "code",
   "execution_count": 112,
   "metadata": {},
   "outputs": [],
   "source": [
    "def mean_naive(X):\n",
    "    D, N = X.shape\n",
    "    mean = np.zeros((D,1))\n",
    "    for n in range(N):\n",
    "      for m in range(D):\n",
    "        mean[m] = mean[m]+ X[m,n]\n",
    "    mean = mean / N\n",
    "    return mean\n",
    "\n",
    "def mean(X):\n",
    "    D, N = X.shape\n",
    "    mean = np.zeros((D,1))\n",
    "    mean_temp = np.mean(X,1)\n",
    "    for m in range(D):  #loop to create a list of lists\n",
    "        mean[m] = mean_temp[m]\n",
    "    return mean\n",
    "\n",
    "def cov_naive(X):\n",
    "    D, N = X.shape\n",
    "    covariance = np.zeros((D, D))    \n",
    "    mean = np.mean(X,axis=1)\n",
    "    \n",
    "    for n in range(N):\n",
    "        diff = np.asmatrix(X[:,n] - mean)\n",
    "        covariance += diff.T @ diff \n",
    "    covariance = covariance/N\n",
    "    return covariance\n",
    "\n",
    "\n",
    "def cov(X):\n",
    "    D, N = X.shape\n",
    "    covariance_matrix = np.zeros((D, D))\n",
    "    covariance_matrix = np.cov(X, rowvar=True, bias=True)\n",
    "    return covariance_matrix"
   ]
  },
  {
   "cell_type": "markdown",
   "metadata": {},
   "source": [
    "Testing the data set as in the assignment"
   ]
  },
  {
   "cell_type": "code",
   "execution_count": 122,
   "metadata": {},
   "outputs": [
    {
     "name": "stdout",
     "output_type": "stream",
     "text": [
      "X:\n",
      " [[0 1 2]\n",
      " [3 4 5]]\n",
      "Expected mean:\n",
      " [[1.]\n",
      " [4.]]\n",
      "Expected covariance:\n",
      " [[0.66666667 0.66666667]\n",
      " [0.66666667 0.66666667]]\n",
      "Calculated mean naive:\n",
      " [[1.]\n",
      " [4.]]\n",
      "Calculated mean np:\n",
      " [[1.]\n",
      " [4.]]\n",
      "Calculated covariance naive:\n",
      " [[0.66666667 0.66666667]\n",
      " [0.66666667 0.66666667]]\n",
      "Calculated covariance np:\n",
      " [[0.66666667 0.66666667]\n",
      " [0.66666667 0.66666667]]\n",
      "Difference between mean_naive:\n",
      " None\n",
      "Difference between mean_np:\n",
      " None\n",
      "Difference between var_np:\n",
      " None\n",
      "Difference between var_naive:\n",
      " None\n"
     ]
    }
   ],
   "source": [
    "print('X:\\n', X_test)\n",
    "print('Expected mean:\\n', expected_test_mean)\n",
    "print('Expected covariance:\\n', expected_test_cov)\n",
    "print('Calculated mean naive:\\n', mean_naive(X_test))\n",
    "print('Calculated mean np:\\n', mean(X_test))\n",
    "print('Calculated covariance naive:\\n', cov_naive(X_test))\n",
    "print('Calculated covariance np:\\n', cov(X_test))\n",
    "\n",
    "\n",
    "print('Difference between mean_naive:\\n',np.testing.assert_almost_equal(mean_naive(X_test), expected_test_mean))\n",
    "print('Difference between mean_np:\\n',np.testing.assert_almost_equal(mean(X_test), expected_test_mean))\n",
    "\n",
    "print('Difference between var_np:\\n',np.testing.assert_almost_equal(cov(X_test), expected_test_cov))\n",
    "print('Difference between var_naive:\\n',np.testing.assert_almost_equal(cov_naive(X_test), expected_test_cov))"
   ]
  },
  {
   "cell_type": "code",
   "execution_count": null,
   "metadata": {},
   "outputs": [],
   "source": []
  }
 ],
 "metadata": {
  "kernelspec": {
   "display_name": "Python 3",
   "language": "python",
   "name": "python3"
  },
  "language_info": {
   "codemirror_mode": {
    "name": "ipython",
    "version": 3
   },
   "file_extension": ".py",
   "mimetype": "text/x-python",
   "name": "python",
   "nbconvert_exporter": "python",
   "pygments_lexer": "ipython3",
   "version": "3.7.4"
  }
 },
 "nbformat": 4,
 "nbformat_minor": 2
}
